{
  "nbformat": 4,
  "nbformat_minor": 0,
  "metadata": {
    "colab": {
      "provenance": []
    },
    "kernelspec": {
      "name": "python3",
      "display_name": "Python 3"
    },
    "language_info": {
      "name": "python"
    }
  },
  "cells": [
    {
      "cell_type": "markdown",
      "source": [
        "# Tarea 1"
      ],
      "metadata": {
        "id": "16GoZcqSj59y"
      }
    },
    {
      "cell_type": "code",
      "execution_count": null,
      "metadata": {
        "id": "hfEl2sNqjy46"
      },
      "outputs": [],
      "source": [
        "import numpy as np\n",
        "import matplotlib.pyplot as plt\n",
        "import pandas as pd"
      ]
    },
    {
      "cell_type": "markdown",
      "source": [
        "## Numpy (Tiempo estimado: 15 min)\n",
        "\n",
        "Una de las características principales que vuelven a numpy tan útil son sus capacidades algebraicas, y la posibilidad de trabajar con conjuntos de datos de N dimesiones, lo que permite acelerar cálculos. Para destacar esto, a continuación se hacne una serie de jercicios simple donde se pide que realicen las mismas operaciones usando numpy y las listas de python.\n",
        "\n",
        "Para visualizar de mejor manera el potencial en velocidad que tiene utilizar numpy, se les pide que corran sus funciones con el decorator $\\textit{%timeit}$, ejemplo\n",
        "\n",
        "```\n",
        "%timeit nombre_funcion(parametro_1, parametro_2)\n",
        "```\n",
        "\n",
        "Esto entregará como output el tiempo medio que toma en correr la función y el\n"
      ],
      "metadata": {
        "id": "0NjxHVI_mP_3"
      }
    },
    {
      "cell_type": "markdown",
      "source": [
        "### Suma de listas de elementos\n",
        "\n",
        "* Cree la función $\\textbf{suma_listas}$, que sume 2 listas de python $a$ y $b$.\n",
        "* Cree la función $\\textbf{suma_arrays}$, que sume 2 arrays de numpy $a$ y $b$."
      ],
      "metadata": {
        "id": "DupO44VCnjEg"
      }
    },
    {
      "cell_type": "code",
      "source": [],
      "metadata": {
        "id": "yVU8xCTBniE1"
      },
      "execution_count": null,
      "outputs": []
    },
    {
      "cell_type": "markdown",
      "source": [
        "### Multiplicación de listas de elementos\n",
        "\n",
        "* Cree la función $\\textbf{mupliply_listas}$, que multiplique 2 listas de python $a$ y $b$\n",
        "* Cree la función $\\textbf{mupliply_arrays}$, que multiplique 2 listas de python $a$ y $b$"
      ],
      "metadata": {
        "id": "plK2_G1OsOT2"
      }
    },
    {
      "cell_type": "code",
      "source": [],
      "metadata": {
        "id": "zMKv6jvQkPIt"
      },
      "execution_count": null,
      "outputs": []
    },
    {
      "cell_type": "markdown",
      "source": [
        "### Aplicación práctica (IMF de Salpater)\n",
        "\n",
        "Las Funciones de Masa Inicial (IMF) son muy útil es astronomía pues nos da cuenta de un estimado del número de estrellas que se van a formar en un periodo de formación estelar a partir de un reservorio de masa M [referencia](https://es.wikipedia.org/wiki/Función_de_masa_inicial), lo que permite estudiar poblaciones estelares. En particular, si tenemos un rango de masas $[M_1, M_2]$, se puede demostrar que el número de estrellas que nacerán de un reservorio de masa $\\xi_0$ (ignorar unidades) está dada por ecuación $(1)$\n",
        "\n",
        "$$N = \\frac{\\xi_0}{1.35} (M_1^{-1.35} - M_2^{-1.35}) \\tag{1}$$\n",
        "\n",
        "Para esta prueba usted debe:\n",
        "\n",
        "* Crear un array de masas $\\textbf{lista_masas}$ que vaya desde $0.2 M_{\\odot}$ hasta $80 M_{\\odot}$, separada por equespaciada en $0.05 M_{\\odot}$. Note que para este ejercicio puede ignorar la unidad de la masa.\n",
        "* Recrear la ecuación $(1)$ como función en python. Considere $\\xi_0=1$\n",
        "* Calcular el número de estrellas que se formarán en todos los intervalos de $\\textbf{lista_masas}$, i.e. entre $[0.2, 0.25], [0.25, 0.3], [0.3, 0.35], ..., [79.9, 79.95], [79.95, 80]$ utilizando numpy y pandas. (Recuerde incluir el $\\textit{%timeit}$)\n",
        "\n"
      ],
      "metadata": {
        "id": "eUcXxyJyuZBy"
      }
    },
    {
      "cell_type": "code",
      "source": [],
      "metadata": {
        "id": "qyKU01dsuYV6"
      },
      "execution_count": null,
      "outputs": []
    },
    {
      "cell_type": "markdown",
      "source": [
        "## Pandas (Tiempo estimado 20 min)\n",
        "\n",
        "Pandas es una de las librerías más usadas en python. Su versatilidad, potencia y simplicidad de ulizar le han dado un lugar como una de las herramientas más populares y necesarias en la ciencia de datos moderna.\n",
        "\n",
        "Para esta sección veremos algunas de las funciones principales que existen dentro de pandas, dando una pincelada a sus capacidades. Se recomienda que igualmenten exploren la [documentación](lista_masas), y que miren/realicen el tutorial [10 minutes to pandas](https://pandas.pydata.org/docs/user_guide/10min.html)."
      ],
      "metadata": {
        "id": "dl611lJmDRTX"
      }
    },
    {
      "cell_type": "markdown",
      "source": [
        "### 1. Creación de datos\n",
        "\n",
        "En la celda inferior recree el dataset **Almacén**:\n",
        "\n",
        "\n",
        "|        | Manzana | Frutilla | Melón |\n",
        "|--------|---------|----------|-------|\n",
        "| Total  | 25      | 80       | 15    |\n",
        "| Ventas | 14      | 60       | 6     |\n"
      ],
      "metadata": {
        "id": "GNUfP72AUx6h"
      }
    },
    {
      "cell_type": "code",
      "source": [],
      "metadata": {
        "id": "XCvsQiEeUxdc"
      },
      "execution_count": null,
      "outputs": []
    },
    {
      "cell_type": "markdown",
      "source": [
        "Haga ahora un inventario de la cantidad que queda por producto y añada la fila **Bodega** con esta información."
      ],
      "metadata": {
        "id": "IZWCQiRnYWL0"
      }
    },
    {
      "cell_type": "code",
      "source": [],
      "metadata": {
        "id": "srLlUtC_YV0U"
      },
      "execution_count": null,
      "outputs": []
    },
    {
      "cell_type": "markdown",
      "source": [
        "### Visualización\n",
        "\n",
        "Importe el dataset utilizando la función **pd.load_csv(path)** y guardelo como **df_censo**. Con este dataset se pide hacer lo siguiente\n",
        "\n",
        "* Vea los primeros 10 elementos de $\\textbf{df_data}$\n",
        "* Vea las columnas del dataframe\n",
        "* Traduzca las columnas a español (manualmente).\n",
        "* Use la función $\\textbf{describe}$ para visualizar la estadística de cada columna del dataframe. ¿Ve algo que no tiene sentido?"
      ],
      "metadata": {
        "id": "JwETbfoCIYCp"
      }
    },
    {
      "cell_type": "code",
      "source": [],
      "metadata": {
        "id": "RIoiTqBYbhj4"
      },
      "execution_count": null,
      "outputs": []
    },
    {
      "cell_type": "markdown",
      "source": [
        "### Filtar los datos\n",
        "\n",
        "Repare el dataframe siguiendo los siguientes pasos\n",
        "\n",
        "* Descarte los elementos del dataframe donde la edad sea menor a cero\n",
        "* Reemplace los casos en que el número de hermanos es menor a cero por cero\n",
        "* Descarte los casos en que el mismo nombre aparezca más de una vez\n",
        "* Si una persona vive en Rancagua hay que descartarla. Todos sabemos que rancagua no existe."
      ],
      "metadata": {
        "id": "uSvF60pZkmp0"
      }
    },
    {
      "cell_type": "code",
      "source": [],
      "metadata": {
        "id": "iGOSwD5tZVgw"
      },
      "execution_count": null,
      "outputs": []
    },
    {
      "cell_type": "markdown",
      "source": [
        "## Matplotlib\n",
        "\n",
        "Matplotlib es una librería muy comunmente utilizada en python. Es derivada de su versión en matlab y permite hacer todo tipo de gráficas en python ([documentación](https://matplotlib.org/stable/index.html)). A pesar de que no posee una gran versatilidad al momento de hacer una visulización interactiva, y que hoy en día existen librerías más potentes, su fiabilidad y simplicidad la han hecho una de las librerías fundamentales para la ciencia de datos en python."
      ],
      "metadata": {
        "id": "4Jrb9jj-m7gj"
      }
    },
    {
      "cell_type": "markdown",
      "source": [
        "### Visualización simple\n",
        "\n"
      ],
      "metadata": {
        "id": "Z_pmuvFyoZgH"
      }
    },
    {
      "cell_type": "markdown",
      "source": [
        "Utilizando la función **np.sin()** de numpy, y la lista **x_values**, plotee la función seno. Sin crear una figura, solo **plt.plot()**."
      ],
      "metadata": {
        "id": "Zj45na83odkj"
      }
    },
    {
      "cell_type": "code",
      "source": [],
      "metadata": {
        "id": "D_sBsow7iqE_"
      },
      "execution_count": null,
      "outputs": []
    },
    {
      "cell_type": "markdown",
      "source": [
        "Ahora incluya también en el plot la función coseno **np.cos()**. Plotee el coseno de color rojo y en azul la función seno. Incluya además una leyenda con **plt.legend()**."
      ],
      "metadata": {
        "id": "Lw99N8KXp5Fw"
      }
    },
    {
      "cell_type": "code",
      "source": [],
      "metadata": {
        "id": "MjuH9RGPrbhv"
      },
      "execution_count": null,
      "outputs": []
    },
    {
      "cell_type": "markdown",
      "source": [
        "Es una buena práctica también el siempre inicializar una figura. Esto además permite definir un tamaño al plot que se va a generar. Use **plt.figure(figize=(size_x, size_y))** para cambiar el tamaño de la figura. Ajuste estos parámetros tal que el plot sea simétrico. Ex:\n"
      ],
      "metadata": {
        "id": "1m6lVwVKrcRg"
      }
    },
    {
      "cell_type": "code",
      "source": [],
      "metadata": {
        "id": "xOUYHjMorb9j"
      },
      "execution_count": null,
      "outputs": []
    },
    {
      "cell_type": "markdown",
      "source": [
        "Para estas funciones, sabemos que tiene un mayor sentido definir el xaxis en función de $\\pi$ en lugar de números enteros. Utilize la función **plt.xticks()** para reescribir los valores de x como fracciones de $\\pi$. Utilice como labels la lista **xticks_labels** que ya está definida.\n",
        "\n",
        "Además, tenga en cuenta que se puede escribir texto en latex de la siguiente forma:\n",
        "\n",
        "\n",
        "```\n",
        "r'$\\pi$'\n",
        "```\n",
        "\n"
      ],
      "metadata": {
        "id": "53hjjeSOsYC9"
      }
    },
    {
      "cell_type": "code",
      "source": [],
      "metadata": {
        "id": "u6Fuot6TsXfR"
      },
      "execution_count": null,
      "outputs": []
    },
    {
      "cell_type": "markdown",
      "source": [
        "Como ultimo paso, active una grilla con **plt.grid(True)**. Además añada un título a la figura y labels (x label e y label) que tengan sentido.\n"
      ],
      "metadata": {
        "id": "Dpx8yHarumHI"
      }
    },
    {
      "cell_type": "code",
      "source": [],
      "metadata": {
        "id": "BXkot8KC0XRl"
      },
      "execution_count": null,
      "outputs": []
    },
    {
      "cell_type": "markdown",
      "source": [
        "### Visualización distribución de estrellas\n",
        "\n",
        "El archivo **galaxy2.csv** contiene datos de la posición de estrellas sintéticas de una galaxia. Al igual que en la sección anterior, cargue los datos utilizando **pd.read_csv()**.\n",
        "\n",
        "Vea los primeros 10 elementos del dataframe. ¿Qué tipo de información puede encontrar? Dado el nombre de las columnas, ¿en qué unidades se encuentran?"
      ],
      "metadata": {
        "id": "8s3ZUKpnwDhp"
      }
    },
    {
      "cell_type": "code",
      "source": [],
      "metadata": {
        "id": "JxRQLctFwC48"
      },
      "execution_count": null,
      "outputs": []
    },
    {
      "cell_type": "markdown",
      "source": [
        "Plotee las estrellas en el plano $[x, y]$ utilizando **plt.plot()**. Para hacer esto hay que plotear solo los marcadores, esto se puede hacer con: **marker=' . ', linestyle='  '**, o simplemente con **' . '**."
      ],
      "metadata": {
        "id": "qh1iC6G0bH5g"
      }
    },
    {
      "cell_type": "code",
      "source": [],
      "metadata": {
        "id": "-gq6Ov1ruk8d"
      },
      "execution_count": null,
      "outputs": []
    },
    {
      "cell_type": "markdown",
      "source": [
        "Se puede ver que muchas de las estrellas se extienden muy lejos de la galaxia. Para simplificar la visualización setee un **plt.xlim()** y **plt.ylim()** en el rago que considere que funcione mejor (Recomendación, use la notación $1eN$, con $N$ el orden de magnitud, para facilitar la escritura).\n",
        "\n",
        "Adicionalmente, cuando se trabaja con marcadores, podemos usar el parámetro **markersize** para modificar su tamaño. El plot anterior muestra con bastante claridad las estrellas que están más lejanas, pero dificulta la visualización de las regiones más centrales de la galaxia. Actualice el tamaño de los marcadores a $0.5$, de manera que sea más suabe la visualización de la distribución de estrellas. Plotee además las estrellas vistas en el plano $[x, y]$, $[x, z]$, $[y, z]$."
      ],
      "metadata": {
        "id": "1SabvzbeeVlJ"
      }
    },
    {
      "cell_type": "code",
      "execution_count": null,
      "metadata": {
        "id": "acf6d529-0b61-46af-a046-2cc1396cd341"
      },
      "outputs": [],
      "source": []
    },
    {
      "cell_type": "code",
      "execution_count": null,
      "metadata": {
        "id": "db715dc3-d21b-4d7d-b141-1694b16bd104"
      },
      "outputs": [],
      "source": []
    },
    {
      "cell_type": "markdown",
      "source": [
        "#### Distribuciones\n",
        "\n",
        "Calcule la distancia $r$ y ángulo $\\theta$ de cada una de las estrellas (Ignore la coordenada $z$) y añada estos valores a las columnas del dataframe original."
      ],
      "metadata": {
        "id": "WSqhyS8MiWy0"
      }
    },
    {
      "cell_type": "code",
      "execution_count": null,
      "metadata": {
        "id": "ce5f2205-ffd1-4a39-85da-65506e9c4712"
      },
      "outputs": [],
      "source": []
    },
    {
      "cell_type": "markdown",
      "source": [
        "Finalmente, visualize la distribución de $r$ y $\\theta$ con un histograma. Esto se puede hacer contruir desde cero con matplotlib, sin embargo pandas simplifica hacer análisis como estos, permitiendo rápidamente hacer difentes análisis estadísticos. El codigo inferior muestra como se puede plotear un histograma\n",
        "\n",
        "\n",
        "\n",
        "```\n",
        "dataframe.plot.hist(y=column_name, bins=n_bins)\n",
        "```\n",
        "\n",
        "Incluya además una escala logaritmica en $y$ para el caso de $r$. Use la cantidad de bins que considere que representen bien la distribución.\n",
        "\n"
      ],
      "metadata": {
        "id": "742377hMjaG_"
      }
    },
    {
      "cell_type": "code",
      "source": [],
      "metadata": {
        "id": "pG4Z0LcijZy1"
      },
      "execution_count": null,
      "outputs": []
    },
    {
      "cell_type": "code",
      "source": [],
      "metadata": {
        "id": "HNqKITmej8Ww"
      },
      "execution_count": null,
      "outputs": []
    }
  ]
}